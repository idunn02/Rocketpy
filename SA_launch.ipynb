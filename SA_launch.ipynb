{
 "cells": [
  {
   "cell_type": "code",
   "execution_count": 1,
   "metadata": {},
   "outputs": [],
   "source": [
    "from rocketpy import Environment, SolidMotor, Rocket, Flight\n",
    "import datetime\n",
    "import pandas\n",
    "import cdsapi"
   ]
  },
  {
   "cell_type": "code",
   "execution_count": 2,
   "metadata": {},
   "outputs": [],
   "source": [
    "env = Environment(latitude=32.990254, longitude=-106.974998, elevation=1400)"
   ]
  },
  {
   "cell_type": "code",
   "execution_count": 20,
   "metadata": {},
   "outputs": [],
   "source": [
    "my_string = \"2024-04-05\"\n",
    "\n",
    "# create date object in given time format yyyy-mm-dd\n",
    "launch_date = datetime.datetime.strptime(my_string, \"%Y-%m-%d\")\n",
    "\n",
    "env.set_date(\n",
    "    (launch_date.year, launch_date.month, launch_date.day, 12)\n",
    ")  # hour given in UTC"
   ]
  },
  {
   "cell_type": "code",
   "execution_count": 21,
   "metadata": {},
   "outputs": [
    {
     "name": "stderr",
     "output_type": "stream",
     "text": [
      "2024-07-20 10:52:10,020 INFO Welcome to the CDS\n",
      "2024-07-20 10:52:10,021 INFO Sending request to https://cds.climate.copernicus.eu/api/v2/resources/reanalysis-era5-complete\n",
      "2024-07-20 10:52:10,164 INFO Request is queued\n"
     ]
    }
   ],
   "source": [
    "c = cdsapi.Client()\n",
    "\n",
    "c.retrieve(\"reanalysis-era5-complete\", {\n",
    "    \"class\": \"ea\",\n",
    "    \"date\": \"2024-04-05\",\n",
    "    \"expver\": \"1\",\n",
    "    \"levelist\": \"100/300/500/700/1000\",\n",
    "    \"levtype\": \"pl\",\n",
    "    \"number\": \"0/1/2/3/4/5/6/7/8/9\",\n",
    "    \"param\": \"60.128/129.128/130.128/131/132/135.128/138.128/155.128\",\n",
    "    \"stream\": \"oper\",\n",
    "    \"time\": \"12:00:00\",\n",
    "    \"type\": \"an\",\n",
    "    \"format\": \"netcdf\"\n",
    "}, \"output.nc\")\n",
    "\n",
    "\n",
    "\n",
    "# c = cdsapi.Client()\n",
    "\n",
    "# c.retrieve(\n",
    "#     \"reanalysis-era5-pressure-levels\",\n",
    "#     {\n",
    "#         \"product_type\": \"reanalysis\",\n",
    "#         \"format\": \"netcdf\",\n",
    "#         \"variable\": [\n",
    "#             \"geopotential\", \"temperature\", \"u_component_of_wind\",\n",
    "#             \"v_component_of_wind\", \"vertical_velocity\",\n",
    "#             \"vorticity\"\n",
    "#         ],\n",
    "#         \"pressure_level\": [\n",
    "#             \"100\", \"300\", \"500\", \"700\", \"1000\"\n",
    "#         ],\n",
    "#         \"year\": \"2024\",\n",
    "#         \"month\": \"04\",\n",
    "#         \"day\": \"05\",\n",
    "#         \"time\": \"12:00\",\n",
    "#         \"area\": [90, -180, -90, 180], # North, West, South, East (global)\n",
    "#         \"grid\": [0.25, 0.25], # Output grid resolution\n",
    "#     },\n",
    "#     \"output.nc\"\n",
    "# )\n",
    "\n",
    "# c = cdsapi.Client()\n",
    "# c.retrieve(\n",
    "# 'reanalysis-era5-pressure-levels',\n",
    "#         {\n",
    "#             'product_type': 'reanalysis',\n",
    "#             'format': \"netcdf\",\n",
    "#             'variable': [\n",
    "#             \"geopotential\", \"temperature\", \"u_component_of_wind\",\n",
    "#             \"v_component_of_wind\", \"vertical_velocity\",\n",
    "#             \"vorticity\"\n",
    "#         ],\n",
    "#             'pressure_level': '1000',\n",
    "#             'year': '2024',\n",
    "#             'month': '06',\n",
    "#             'day': '21',\n",
    "#             'time': ['11:00', '12:00', '13:00'],\n",
    "#             'area': [90, -180, -90, 180], # North, West, South, East (global)\n",
    "#             'grid': [0.25, 0.25], # Output grid resolution\n",
    "#         },\n",
    "\n",
    "#     'download.nc')"
   ]
  },
  {
   "cell_type": "code",
   "execution_count": 19,
   "metadata": {},
   "outputs": [
    {
     "ename": "ValueError",
     "evalue": "Unable to read pressure levels from file. Check file and dictionary.",
     "output_type": "error",
     "traceback": [
      "\u001b[1;31m---------------------------------------------------------------------------\u001b[0m",
      "\u001b[1;31mKeyError\u001b[0m                                  Traceback (most recent call last)",
      "File \u001b[1;32mc:\\Users\\Daniel\\miniconda3\\envs\\rocketry\\Lib\\site-packages\\rocketpy\\environment\\environment.py:2225\u001b[0m, in \u001b[0;36mEnvironment.process_forecast_reanalysis\u001b[1;34m(self, file, dictionary)\u001b[0m\n\u001b[0;32m   2223\u001b[0m \u001b[38;5;28;01mtry\u001b[39;00m:\n\u001b[0;32m   2224\u001b[0m     levels \u001b[38;5;241m=\u001b[39m (\n\u001b[1;32m-> 2225\u001b[0m         \u001b[38;5;241m100\u001b[39m \u001b[38;5;241m*\u001b[39m \u001b[43mweather_data\u001b[49m\u001b[38;5;241;43m.\u001b[39;49m\u001b[43mvariables\u001b[49m\u001b[43m[\u001b[49m\u001b[43mdictionary\u001b[49m\u001b[43m[\u001b[49m\u001b[38;5;124;43m\"\u001b[39;49m\u001b[38;5;124;43mlevel\u001b[39;49m\u001b[38;5;124;43m\"\u001b[39;49m\u001b[43m]\u001b[49m\u001b[43m]\u001b[49m[:]\n\u001b[0;32m   2226\u001b[0m     )  \u001b[38;5;66;03m# Convert mbar to Pa\u001b[39;00m\n\u001b[0;32m   2227\u001b[0m \u001b[38;5;28;01mexcept\u001b[39;00m:\n",
      "\u001b[1;31mKeyError\u001b[0m: 'level'",
      "\nDuring handling of the above exception, another exception occurred:\n",
      "\u001b[1;31mValueError\u001b[0m                                Traceback (most recent call last)",
      "Cell \u001b[1;32mIn[19], line 1\u001b[0m\n\u001b[1;32m----> 1\u001b[0m \u001b[43menv\u001b[49m\u001b[38;5;241;43m.\u001b[39;49m\u001b[43mset_atmospheric_model\u001b[49m\u001b[43m(\u001b[49m\n\u001b[0;32m      2\u001b[0m \u001b[43m    \u001b[49m\u001b[38;5;28;43mtype\u001b[39;49m\u001b[38;5;241;43m=\u001b[39;49m\u001b[38;5;124;43m\"\u001b[39;49m\u001b[38;5;124;43mReanalysis\u001b[39;49m\u001b[38;5;124;43m\"\u001b[39;49m\u001b[43m,\u001b[49m\n\u001b[0;32m      3\u001b[0m \u001b[43m    \u001b[49m\u001b[43mfile\u001b[49m\u001b[38;5;241;43m=\u001b[39;49m\u001b[38;5;124;43m\"\u001b[39;49m\u001b[38;5;124;43mdownload.nc\u001b[39;49m\u001b[38;5;124;43m\"\u001b[39;49m\u001b[43m,\u001b[49m\n\u001b[0;32m      4\u001b[0m \u001b[43m    \u001b[49m\u001b[43mdictionary\u001b[49m\u001b[38;5;241;43m=\u001b[39;49m\u001b[38;5;124;43m\"\u001b[39;49m\u001b[38;5;124;43mECMWF\u001b[39;49m\u001b[38;5;124;43m\"\u001b[39;49m\u001b[43m,\u001b[49m\n\u001b[0;32m      5\u001b[0m \u001b[43m)\u001b[49m\n",
      "File \u001b[1;32mc:\\Users\\Daniel\\miniconda3\\envs\\rocketry\\Lib\\site-packages\\rocketpy\\environment\\environment.py:1276\u001b[0m, in \u001b[0;36mEnvironment.set_atmospheric_model\u001b[1;34m(self, type, file, dictionary, pressure, temperature, wind_u, wind_v)\u001b[0m\n\u001b[0;32m   1272\u001b[0m         \u001b[38;5;28;01mraise\u001b[39;00m \u001b[38;5;167;01mTypeError\u001b[39;00m(\n\u001b[0;32m   1273\u001b[0m             \u001b[38;5;124m\"\u001b[39m\u001b[38;5;124mPlease specify a dictionary or choose a default one such as ECMWF or NOAA.\u001b[39m\u001b[38;5;124m\"\u001b[39m\n\u001b[0;32m   1274\u001b[0m         )\n\u001b[0;32m   1275\u001b[0m     \u001b[38;5;66;03m# Process forecast or reanalysis\u001b[39;00m\n\u001b[1;32m-> 1276\u001b[0m     \u001b[38;5;28;43mself\u001b[39;49m\u001b[38;5;241;43m.\u001b[39;49m\u001b[43mprocess_forecast_reanalysis\u001b[49m\u001b[43m(\u001b[49m\u001b[43mfile\u001b[49m\u001b[43m,\u001b[49m\u001b[43m \u001b[49m\u001b[43mdictionary\u001b[49m\u001b[43m)\u001b[49m\n\u001b[0;32m   1277\u001b[0m \u001b[38;5;66;03m# Save dictionary and file\u001b[39;00m\n\u001b[0;32m   1278\u001b[0m \u001b[38;5;28mself\u001b[39m\u001b[38;5;241m.\u001b[39matmospheric_model_file \u001b[38;5;241m=\u001b[39m file\n",
      "File \u001b[1;32mc:\\Users\\Daniel\\miniconda3\\envs\\rocketry\\Lib\\site-packages\\rocketpy\\environment\\environment.py:33\u001b[0m, in \u001b[0;36mrequires_netCDF4.<locals>.wrapped_func\u001b[1;34m(*args, **kwargs)\u001b[0m\n\u001b[0;32m     31\u001b[0m \u001b[38;5;28;01mdef\u001b[39;00m \u001b[38;5;21mwrapped_func\u001b[39m(\u001b[38;5;241m*\u001b[39margs, \u001b[38;5;241m*\u001b[39m\u001b[38;5;241m*\u001b[39mkwargs):\n\u001b[0;32m     32\u001b[0m     \u001b[38;5;28;01mif\u001b[39;00m has_netCDF4:\n\u001b[1;32m---> 33\u001b[0m         \u001b[43mfunc\u001b[49m\u001b[43m(\u001b[49m\u001b[38;5;241;43m*\u001b[39;49m\u001b[43margs\u001b[49m\u001b[43m,\u001b[49m\u001b[43m \u001b[49m\u001b[38;5;241;43m*\u001b[39;49m\u001b[38;5;241;43m*\u001b[39;49m\u001b[43mkwargs\u001b[49m\u001b[43m)\u001b[49m\n\u001b[0;32m     34\u001b[0m     \u001b[38;5;28;01melse\u001b[39;00m:\n\u001b[0;32m     35\u001b[0m         \u001b[38;5;28;01mraise\u001b[39;00m \u001b[38;5;167;01mImportError\u001b[39;00m(\n\u001b[0;32m     36\u001b[0m             \u001b[38;5;124m\"\u001b[39m\u001b[38;5;124mThis feature requires netCDF4 to be installed. Install it with `pip install netCDF4`\u001b[39m\u001b[38;5;124m\"\u001b[39m\n\u001b[0;32m     37\u001b[0m         )\n",
      "File \u001b[1;32mc:\\Users\\Daniel\\miniconda3\\envs\\rocketry\\Lib\\site-packages\\rocketpy\\environment\\environment.py:2228\u001b[0m, in \u001b[0;36mEnvironment.process_forecast_reanalysis\u001b[1;34m(self, file, dictionary)\u001b[0m\n\u001b[0;32m   2224\u001b[0m     levels \u001b[38;5;241m=\u001b[39m (\n\u001b[0;32m   2225\u001b[0m         \u001b[38;5;241m100\u001b[39m \u001b[38;5;241m*\u001b[39m weather_data\u001b[38;5;241m.\u001b[39mvariables[dictionary[\u001b[38;5;124m\"\u001b[39m\u001b[38;5;124mlevel\u001b[39m\u001b[38;5;124m\"\u001b[39m]][:]\n\u001b[0;32m   2226\u001b[0m     )  \u001b[38;5;66;03m# Convert mbar to Pa\u001b[39;00m\n\u001b[0;32m   2227\u001b[0m \u001b[38;5;28;01mexcept\u001b[39;00m:\n\u001b[1;32m-> 2228\u001b[0m     \u001b[38;5;28;01mraise\u001b[39;00m \u001b[38;5;167;01mValueError\u001b[39;00m(\n\u001b[0;32m   2229\u001b[0m         \u001b[38;5;124m\"\u001b[39m\u001b[38;5;124mUnable to read pressure levels from file. Check file and dictionary.\u001b[39m\u001b[38;5;124m\"\u001b[39m\n\u001b[0;32m   2230\u001b[0m     )\n\u001b[0;32m   2232\u001b[0m \u001b[38;5;66;03m# Get geopotential data from file\u001b[39;00m\n\u001b[0;32m   2233\u001b[0m \u001b[38;5;28;01mtry\u001b[39;00m:\n",
      "\u001b[1;31mValueError\u001b[0m: Unable to read pressure levels from file. Check file and dictionary."
     ]
    }
   ],
   "source": [
    "env.set_atmospheric_model(\n",
    "    type=\"Reanalysis\",\n",
    "    file=\"output.nc\",\n",
    "    dictionary=\"ECMWF\",\n",
    ")"
   ]
  },
  {
   "cell_type": "code",
   "execution_count": null,
   "metadata": {},
   "outputs": [],
   "source": [
    "env.max_expected_height = 5000  # adjust the plots to this height\n",
    "env.info()"
   ]
  }
 ],
 "metadata": {
  "kernelspec": {
   "display_name": "rocket",
   "language": "python",
   "name": "python3"
  },
  "language_info": {
   "codemirror_mode": {
    "name": "ipython",
    "version": 3
   },
   "file_extension": ".py",
   "mimetype": "text/x-python",
   "name": "python",
   "nbconvert_exporter": "python",
   "pygments_lexer": "ipython3",
   "version": "3.11.9"
  }
 },
 "nbformat": 4,
 "nbformat_minor": 2
}
