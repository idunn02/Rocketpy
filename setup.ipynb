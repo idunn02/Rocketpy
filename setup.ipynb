{
 "cells": [
  {
   "cell_type": "code",
   "execution_count": 6,
   "metadata": {},
   "outputs": [],
   "source": [
    "from rocketpy import Environment, SolidMotor, Rocket, Flight\n",
    "import datetime\n",
    "import pandas"
   ]
  },
  {
   "cell_type": "code",
   "execution_count": 7,
   "metadata": {},
   "outputs": [],
   "source": [
    "env = Environment(latitude=32.990254, longitude=-106.974998, elevation=1400)"
   ]
  },
  {
   "cell_type": "code",
   "execution_count": 11,
   "metadata": {},
   "outputs": [],
   "source": [
    "import datetime\n",
    "\n",
    "tomorrow = datetime.date.today() + datetime.timedelta(days=2)\n",
    "\n",
    "env.set_date(\n",
    "    (tomorrow.year, tomorrow.month, tomorrow.day, 12)\n",
    ")  # Hour given in UTC time"
   ]
  },
  {
   "cell_type": "code",
   "execution_count": 12,
   "metadata": {},
   "outputs": [
    {
     "name": "stderr",
     "output_type": "stream",
     "text": [
      "oc_open: server error retrieving url: code=0 message=\"/gfs_0p25/gfs20240718/gfs_0p25_00z is not an available dataset\""
     ]
    },
    {
     "ename": "ValueError",
     "evalue": "Unable to read pressure levels from file. Check file and dictionary.",
     "output_type": "error",
     "traceback": [
      "\u001b[0;31m---------------------------------------------------------------------------\u001b[0m",
      "\u001b[0;31mKeyError\u001b[0m                                  Traceback (most recent call last)",
      "File \u001b[0;32m/opt/anaconda3/envs/rocket/lib/python3.11/site-packages/rocketpy/environment/environment.py:2225\u001b[0m, in \u001b[0;36mEnvironment.process_forecast_reanalysis\u001b[0;34m(self, file, dictionary)\u001b[0m\n\u001b[1;32m   2223\u001b[0m \u001b[38;5;28;01mtry\u001b[39;00m:\n\u001b[1;32m   2224\u001b[0m     levels \u001b[38;5;241m=\u001b[39m (\n\u001b[0;32m-> 2225\u001b[0m         \u001b[38;5;241m100\u001b[39m \u001b[38;5;241m*\u001b[39m \u001b[43mweather_data\u001b[49m\u001b[38;5;241;43m.\u001b[39;49m\u001b[43mvariables\u001b[49m\u001b[43m[\u001b[49m\u001b[43mdictionary\u001b[49m\u001b[43m[\u001b[49m\u001b[38;5;124;43m\"\u001b[39;49m\u001b[38;5;124;43mlevel\u001b[39;49m\u001b[38;5;124;43m\"\u001b[39;49m\u001b[43m]\u001b[49m\u001b[43m]\u001b[49m[:]\n\u001b[1;32m   2226\u001b[0m     )  \u001b[38;5;66;03m# Convert mbar to Pa\u001b[39;00m\n\u001b[1;32m   2227\u001b[0m \u001b[38;5;28;01mexcept\u001b[39;00m:\n",
      "\u001b[0;31mKeyError\u001b[0m: 'pressure_level'",
      "\nDuring handling of the above exception, another exception occurred:\n",
      "\u001b[0;31mValueError\u001b[0m                                Traceback (most recent call last)",
      "Cell \u001b[0;32mIn[12], line 1\u001b[0m\n\u001b[0;32m----> 1\u001b[0m \u001b[43menv\u001b[49m\u001b[38;5;241;43m.\u001b[39;49m\u001b[43mset_atmospheric_model\u001b[49m\u001b[43m(\u001b[49m\u001b[38;5;28;43mtype\u001b[39;49m\u001b[38;5;241;43m=\u001b[39;49m\u001b[38;5;124;43m\"\u001b[39;49m\u001b[38;5;124;43mForecast\u001b[39;49m\u001b[38;5;124;43m\"\u001b[39;49m\u001b[43m,\u001b[49m\u001b[43m \u001b[49m\u001b[43mfile\u001b[49m\u001b[38;5;241;43m=\u001b[39;49m\u001b[38;5;124;43m\"\u001b[39;49m\u001b[38;5;124;43mGFS\u001b[39;49m\u001b[38;5;124;43m\"\u001b[39;49m\u001b[43m)\u001b[49m\n",
      "File \u001b[0;32m/opt/anaconda3/envs/rocket/lib/python3.11/site-packages/rocketpy/environment/environment.py:1129\u001b[0m, in \u001b[0;36mEnvironment.set_atmospheric_model\u001b[0;34m(self, type, file, dictionary, pressure, temperature, wind_u, wind_v)\u001b[0m\n\u001b[1;32m   1122\u001b[0m file \u001b[38;5;241m=\u001b[39m \u001b[38;5;124m\"\u001b[39m\u001b[38;5;124mhttps://nomads.ncep.noaa.gov/dods/gfs_0p25/gfs\u001b[39m\u001b[38;5;132;01m{:04d}\u001b[39;00m\u001b[38;5;132;01m{:02d}\u001b[39;00m\u001b[38;5;132;01m{:02d}\u001b[39;00m\u001b[38;5;124m/gfs_0p25_\u001b[39m\u001b[38;5;132;01m{:02d}\u001b[39;00m\u001b[38;5;124mz\u001b[39m\u001b[38;5;124m\"\u001b[39m\u001b[38;5;241m.\u001b[39mformat(\n\u001b[1;32m   1123\u001b[0m     time_attempt\u001b[38;5;241m.\u001b[39myear,\n\u001b[1;32m   1124\u001b[0m     time_attempt\u001b[38;5;241m.\u001b[39mmonth,\n\u001b[1;32m   1125\u001b[0m     time_attempt\u001b[38;5;241m.\u001b[39mday,\n\u001b[1;32m   1126\u001b[0m     \u001b[38;5;241m6\u001b[39m \u001b[38;5;241m*\u001b[39m (time_attempt\u001b[38;5;241m.\u001b[39mhour \u001b[38;5;241m/\u001b[39m\u001b[38;5;241m/\u001b[39m \u001b[38;5;241m6\u001b[39m),\n\u001b[1;32m   1127\u001b[0m )\n\u001b[1;32m   1128\u001b[0m \u001b[38;5;28;01mtry\u001b[39;00m:\n\u001b[0;32m-> 1129\u001b[0m     \u001b[38;5;28;43mself\u001b[39;49m\u001b[38;5;241;43m.\u001b[39;49m\u001b[43mprocess_forecast_reanalysis\u001b[49m\u001b[43m(\u001b[49m\u001b[43mfile\u001b[49m\u001b[43m,\u001b[49m\u001b[43m \u001b[49m\u001b[43mdictionary\u001b[49m\u001b[43m)\u001b[49m\n\u001b[1;32m   1130\u001b[0m     success \u001b[38;5;241m=\u001b[39m \u001b[38;5;28;01mTrue\u001b[39;00m\n\u001b[1;32m   1131\u001b[0m \u001b[38;5;28;01mexcept\u001b[39;00m \u001b[38;5;167;01mOSError\u001b[39;00m:\n",
      "File \u001b[0;32m/opt/anaconda3/envs/rocket/lib/python3.11/site-packages/rocketpy/environment/environment.py:33\u001b[0m, in \u001b[0;36mrequires_netCDF4.<locals>.wrapped_func\u001b[0;34m(*args, **kwargs)\u001b[0m\n\u001b[1;32m     31\u001b[0m \u001b[38;5;28;01mdef\u001b[39;00m \u001b[38;5;21mwrapped_func\u001b[39m(\u001b[38;5;241m*\u001b[39margs, \u001b[38;5;241m*\u001b[39m\u001b[38;5;241m*\u001b[39mkwargs):\n\u001b[1;32m     32\u001b[0m     \u001b[38;5;28;01mif\u001b[39;00m has_netCDF4:\n\u001b[0;32m---> 33\u001b[0m         \u001b[43mfunc\u001b[49m\u001b[43m(\u001b[49m\u001b[38;5;241;43m*\u001b[39;49m\u001b[43margs\u001b[49m\u001b[43m,\u001b[49m\u001b[43m \u001b[49m\u001b[38;5;241;43m*\u001b[39;49m\u001b[38;5;241;43m*\u001b[39;49m\u001b[43mkwargs\u001b[49m\u001b[43m)\u001b[49m\n\u001b[1;32m     34\u001b[0m     \u001b[38;5;28;01melse\u001b[39;00m:\n\u001b[1;32m     35\u001b[0m         \u001b[38;5;28;01mraise\u001b[39;00m \u001b[38;5;167;01mImportError\u001b[39;00m(\n\u001b[1;32m     36\u001b[0m             \u001b[38;5;124m\"\u001b[39m\u001b[38;5;124mThis feature requires netCDF4 to be installed. Install it with `pip install netCDF4`\u001b[39m\u001b[38;5;124m\"\u001b[39m\n\u001b[1;32m     37\u001b[0m         )\n",
      "File \u001b[0;32m/opt/anaconda3/envs/rocket/lib/python3.11/site-packages/rocketpy/environment/environment.py:2228\u001b[0m, in \u001b[0;36mEnvironment.process_forecast_reanalysis\u001b[0;34m(self, file, dictionary)\u001b[0m\n\u001b[1;32m   2224\u001b[0m     levels \u001b[38;5;241m=\u001b[39m (\n\u001b[1;32m   2225\u001b[0m         \u001b[38;5;241m100\u001b[39m \u001b[38;5;241m*\u001b[39m weather_data\u001b[38;5;241m.\u001b[39mvariables[dictionary[\u001b[38;5;124m\"\u001b[39m\u001b[38;5;124mlevel\u001b[39m\u001b[38;5;124m\"\u001b[39m]][:]\n\u001b[1;32m   2226\u001b[0m     )  \u001b[38;5;66;03m# Convert mbar to Pa\u001b[39;00m\n\u001b[1;32m   2227\u001b[0m \u001b[38;5;28;01mexcept\u001b[39;00m:\n\u001b[0;32m-> 2228\u001b[0m     \u001b[38;5;28;01mraise\u001b[39;00m \u001b[38;5;167;01mValueError\u001b[39;00m(\n\u001b[1;32m   2229\u001b[0m         \u001b[38;5;124m\"\u001b[39m\u001b[38;5;124mUnable to read pressure levels from file. Check file and dictionary.\u001b[39m\u001b[38;5;124m\"\u001b[39m\n\u001b[1;32m   2230\u001b[0m     )\n\u001b[1;32m   2232\u001b[0m \u001b[38;5;66;03m# Get geopotential data from file\u001b[39;00m\n\u001b[1;32m   2233\u001b[0m \u001b[38;5;28;01mtry\u001b[39;00m:\n",
      "\u001b[0;31mValueError\u001b[0m: Unable to read pressure levels from file. Check file and dictionary."
     ]
    }
   ],
   "source": [
    "env.set_atmospheric_model(type=\"Forecast\", file=\"GFS\")"
   ]
  },
  {
   "cell_type": "code",
   "execution_count": null,
   "metadata": {},
   "outputs": [],
   "source": [
    "env.max_expected_height = 5000  # adjust the plots to this height\n",
    "env.info()"
   ]
  }
 ],
 "metadata": {
  "kernelspec": {
   "display_name": "rocket",
   "language": "python",
   "name": "python3"
  },
  "language_info": {
   "codemirror_mode": {
    "name": "ipython",
    "version": 3
   },
   "file_extension": ".py",
   "mimetype": "text/x-python",
   "name": "python",
   "nbconvert_exporter": "python",
   "pygments_lexer": "ipython3",
   "version": "3.11.8"
  }
 },
 "nbformat": 4,
 "nbformat_minor": 2
}
